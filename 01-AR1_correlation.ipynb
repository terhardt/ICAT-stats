{
 "cells": [
  {
   "cell_type": "code",
   "execution_count": null,
   "metadata": {},
   "outputs": [],
   "source": [
    "%matplotlib inline\n",
    "import numpy as np\n",
    "import matplotlib.pyplot as plt\n",
    "import pandas as pd\n",
    "from scipy.stats import norm\n",
    "from scipy.stats import t as tdist\n",
    "from scipy.stats import pearsonr\n",
    "\n",
    "from ar1 import sample_ar1"
   ]
  },
  {
   "cell_type": "markdown",
   "metadata": {},
   "source": [
    "# Correlation of time series with memory\n",
    "\n",
    "In this example you will see how to generate an empirical null-distribution for the correlation coefficient between two auto-correlated time series and how to test the correlation coefficient against this null distribution.\n",
    "\n",
    "In the end you will also see a nice formula to correct for the effect of the auto-correlation without doing a simulation experiment."
   ]
  },
  {
   "cell_type": "markdown",
   "metadata": {},
   "source": [
    "First we genrate our \"observations\", two ramdom time series, that are un-correlated but do exhibit an autocorrelation that would not be uncommon for a climate variable"
   ]
  },
  {
   "cell_type": "code",
   "execution_count": null,
   "metadata": {},
   "outputs": [],
   "source": [
    "n = 250\n",
    "alpha = 0.75\n",
    "np.random.seed(12358)\n",
    "y1, y2 = sample_ar1(n, alpha, size=2)"
   ]
  },
  {
   "cell_type": "code",
   "execution_count": null,
   "metadata": {},
   "outputs": [],
   "source": [
    "fig, axes = plt.subplots(figsize=(13, 8), nrows=2, sharex=True, sharey=False)\n",
    "\n",
    "axes[0].plot(y1, 'C0-', lw=1)\n",
    "axes[0].set_ylabel('$y_0$')\n",
    "axes[1].plot(y2, 'C1-', lw=1)\n",
    "axes[1].set_ylabel('$y_1$')\n",
    "\n",
    "axes[-1].set_xlabel('Sample')"
   ]
  },
  {
   "cell_type": "markdown",
   "metadata": {},
   "source": [
    "After taking a look at the time series we calculate the correlatrion coefficient between the two time series."
   ]
  },
  {
   "cell_type": "code",
   "execution_count": null,
   "metadata": {},
   "outputs": [],
   "source": [
    "r, p_wn = pearsonr(y1, -1 * y2)\n",
    "print('r=%.4f (p=%.4f, N=%u)'% (r, p_wn, n))"
   ]
  },
  {
   "cell_type": "markdown",
   "metadata": {},
   "source": [
    "Conveniently, the python function also returns the p-value for the correlation coefficient and it seems that the correlation is highly significant!\n",
    "\n",
    "## Red noise null distribution\n",
    "\n",
    "Unfortunately the test assumes white-noise timeseries as the null distribution which is a terrible assumption in this case.\n",
    "\n",
    "To use a more realistic null-hypothesis we check the correlation coefficient against a null-distribution for auto-correlated time series.\n",
    "\n",
    "For that we generate a large number of pairs of samples from an AR(1) process with the same number of observations and auto-correlation as our data and calculate the correlation between the two.\n",
    "\n",
    "We than compare the correlation coefficient against this empirical null-distribution to check at which percentile of the distribution the correlation of our real data is, following the theory that underlies the classical t-test."
   ]
  },
  {
   "cell_type": "code",
   "execution_count": null,
   "metadata": {},
   "outputs": [],
   "source": [
    "nsamples = 20000\n",
    "\n",
    "sample_r = np.zeros(nsamples)\n",
    "\n",
    "for i in range(nsamples):\n",
    "    s1 = sample_ar1(n, alpha)\n",
    "    s2 = sample_ar1(n, alpha)\n",
    "    sample_r[i] = pearsonr(s1, s2)[0]"
   ]
  },
  {
   "cell_type": "code",
   "execution_count": null,
   "metadata": {},
   "outputs": [],
   "source": [
    "plt.hist(sample_r, bins=50, histtype='step')\n",
    "plt.xlabel('$r$')\n",
    "plt.axvline(r)"
   ]
  },
  {
   "cell_type": "code",
   "execution_count": null,
   "metadata": {},
   "outputs": [],
   "source": [
    "# Empirical p-value from sampled correlation coefficients\n",
    "p_empirical = np.mean(np.abs(sample_r) >= np.abs(r))\n",
    "print('Empirical p-value from simulation: %.4f' % p_empirical)"
   ]
  },
  {
   "cell_type": "markdown",
   "metadata": {},
   "source": [
    "In the case of simple AR(1) processes, there is a formula that we can use to account for the reduced degrees of freedom due to the autocorrelation:\n",
    "\n",
    "\\begin{align}\n",
    "    n_\\mathrm{eff} = n \\frac{1 - \\phi_1 \\phi_2}{1 + \\phi_1 \\phi_2}\n",
    "\\end{align}\n",
    "\n",
    "where $\\phi_1$ and $\\phi_2$ are the lag-one autocorrelations of the two correlated time series.\n",
    "\n",
    "You can see below that the autocorrelation of the time series dramatically decreases the effective number of observations!"
   ]
  },
  {
   "cell_type": "code",
   "execution_count": null,
   "metadata": {},
   "outputs": [],
   "source": [
    "# Calculate reduced degrees of freedom:\n",
    "neff = n * (1 - alpha * alpha) / (1 + alpha * alpha)\n",
    "print('Number of samples: %u' % n)\n",
    "print('Effective sample size: %u' % neff)"
   ]
  },
  {
   "cell_type": "markdown",
   "metadata": {},
   "source": [
    "We can than use this value for the calculation of the t-statistic and for the degrees of freedom of the t-distribution that we check the value agains.\n",
    "\n",
    "This value agrees well with the empirical value optained above."
   ]
  },
  {
   "cell_type": "code",
   "execution_count": null,
   "metadata": {},
   "outputs": [],
   "source": [
    "# Use reduced number of freedoms to test against theoretical t-distribution\n",
    "t = r * np.sqrt(neff) / np.sqrt(1 - r**2)\n",
    "p_theory = 2 * (1 - tdist.cdf(t, neff))\n",
    "print('Theoretical p-value using reduced DOF: %.4f' % p_theory)"
   ]
  },
  {
   "cell_type": "code",
   "execution_count": null,
   "metadata": {},
   "outputs": [],
   "source": []
  }
 ],
 "metadata": {
  "kernelspec": {
   "display_name": "Python 3",
   "language": "python",
   "name": "python3"
  },
  "language_info": {
   "codemirror_mode": {
    "name": "ipython",
    "version": 3
   },
   "file_extension": ".py",
   "mimetype": "text/x-python",
   "name": "python",
   "nbconvert_exporter": "python",
   "pygments_lexer": "ipython3",
   "version": "3.6.7"
  }
 },
 "nbformat": 4,
 "nbformat_minor": 2
}

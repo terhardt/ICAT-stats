{
 "cells": [
  {
   "cell_type": "code",
   "execution_count": null,
   "metadata": {},
   "outputs": [],
   "source": [
    "%matplotlib inline\n",
    "import numpy as np\n",
    "import matplotlib.pyplot as plt\n",
    "import pandas as pd\n",
    "\n",
    "from ar1 import sample_ar1"
   ]
  },
  {
   "cell_type": "markdown",
   "metadata": {},
   "source": [
    "# AR(1) process\n",
    "\n",
    "\n",
    "To start of, lets play around with samples from an AR(1) process.\n",
    "\n",
    "Use the code below to plot some AR(1) samples with different length and auto-correlation and take a look at how the signal and the lag-one dependency changes with increasing autocorrelation. \n",
    "\n",
    "Many time series that we encounter in climate science have very high autocorrelation often ranging between 0.5 and 0.9."
   ]
  },
  {
   "cell_type": "code",
   "execution_count": null,
   "metadata": {},
   "outputs": [],
   "source": [
    "# Number of observations in the generated data\n",
    "nobs = 1000\n",
    "\n",
    "# Autocorrelation\n",
    "phi = 0.9\n",
    "# Lets generate one sample and plot that\n",
    "y = sample_ar1(nobs, phi)\n",
    "\n",
    "plt.plot(y)\n",
    "plt.ylabel('y')\n",
    "plt.xlabel('t')\n",
    "plt.title('$\\phi=%.2f$' % phi)"
   ]
  },
  {
   "cell_type": "code",
   "execution_count": null,
   "metadata": {},
   "outputs": [],
   "source": [
    "# Plotting each value egainst the preceeding one can give us some insight\n",
    "# into the interdependece of the values:\n",
    "\n",
    "plt.plot(y[:-1], y[1:], '.')\n",
    "plt.ylabel('y(t-1)')\n",
    "plt.xlabel('y(t)')"
   ]
  },
  {
   "cell_type": "code",
   "execution_count": null,
   "metadata": {},
   "outputs": [],
   "source": []
  }
 ],
 "metadata": {
  "kernelspec": {
   "display_name": "Python 3",
   "language": "python",
   "name": "python3"
  },
  "language_info": {
   "codemirror_mode": {
    "name": "ipython",
    "version": 3
   },
   "file_extension": ".py",
   "mimetype": "text/x-python",
   "name": "python",
   "nbconvert_exporter": "python",
   "pygments_lexer": "ipython3",
   "version": "3.6.7"
  }
 },
 "nbformat": 4,
 "nbformat_minor": 2
}
